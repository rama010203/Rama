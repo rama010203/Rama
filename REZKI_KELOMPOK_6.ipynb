{
  "nbformat": 4,
  "nbformat_minor": 0,
  "metadata": {
    "colab": {
      "provenance": [],
      "authorship_tag": "ABX9TyO1XUqAY28ka8fgus9giRPK",
      "include_colab_link": true
    },
    "kernelspec": {
      "name": "python3",
      "display_name": "Python 3"
    },
    "language_info": {
      "name": "python"
    }
  },
  "cells": [
    {
      "cell_type": "markdown",
      "metadata": {
        "id": "view-in-github",
        "colab_type": "text"
      },
      "source": [
        "<a href=\"https://colab.research.google.com/github/rama010203/Rama/blob/main/REZKI_KELOMPOK_6.ipynb\" target=\"_parent\"><img src=\"https://colab.research.google.com/assets/colab-badge.svg\" alt=\"Open In Colab\"/></a>"
      ]
    },
    {
      "cell_type": "code",
      "execution_count": null,
      "metadata": {
        "id": "PPA1esgyArVk",
        "colab": {
          "base_uri": "https://localhost:8080/"
        },
        "outputId": "ba024873-a7d6-4e79-be54-704407f3160c"
      },
      "outputs": [
        {
          "output_type": "stream",
          "name": "stdout",
          "text": [
            "hello,11 TKJ 4\n"
          ]
        }
      ],
      "source": [
        "#CODING PERTAMA\n",
        "print ('hello,11 TKJ 4')"
      ]
    },
    {
      "cell_type": "code",
      "source": [
        "\n",
        "#float tipe data untuk menghitung angka dibelakang koma\n",
        "x=float(5)\n",
        "#int integer tipe data untuk menghitung angka desimal\n",
        "y=int(7)\n",
        "#complex menghitung angka aritmatika dengan variabel\n",
        "z=complex(1)\n",
        "#print ini digunakan untuk menampilkan hasil / output\n",
        "print(x)\n",
        "print(y)\n",
        "print(z)"
      ],
      "metadata": {
        "colab": {
          "base_uri": "https://localhost:8080/"
        },
        "id": "JBx0BEmRDxGI",
        "outputId": "d2f51fbb-fe0a-4101-a257-ad1cd10c9992"
      },
      "execution_count": null,
      "outputs": [
        {
          "output_type": "stream",
          "name": "stdout",
          "text": [
            "5.0\n",
            "7\n",
            "(1+0j)\n"
          ]
        }
      ]
    },
    {
      "cell_type": "code",
      "source": [
        "x=int(16)\n",
        "y=str('28-08-2009')\n",
        "z=str('turu')\n",
        "print(x)\n",
        "print(y)\n",
        "print(z)"
      ],
      "metadata": {
        "colab": {
          "base_uri": "https://localhost:8080/"
        },
        "id": "Dp7APxrcKAFE",
        "outputId": "507931b2-357b-4b03-f04c-f37ea45d03ce"
      },
      "execution_count": null,
      "outputs": [
        {
          "output_type": "stream",
          "name": "stdout",
          "text": [
            "16\n",
            "28-08-2009\n",
            "turu\n"
          ]
        }
      ]
    }
  ]
}